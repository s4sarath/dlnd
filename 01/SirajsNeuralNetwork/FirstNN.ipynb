{
 "cells": [
  {
   "cell_type": "code",
   "execution_count": 1,
   "metadata": {
    "collapsed": true
   },
   "outputs": [],
   "source": [
    "from numpy import exp, array, random, dot"
   ]
  },
  {
   "cell_type": "code",
   "execution_count": null,
   "metadata": {
    "collapsed": true
   },
   "outputs": [],
   "source": [
    "class NeuralNetwork():\n",
    "    def __init__(self):\n",
    "        # Seed the random number generator, so it generates the same numbers\n",
    "        # every time the program runs\n",
    "        random.seed(1)\n",
    "        \n",
    "        # We model a single neuron with 3 input connections and 1 output connection\n",
    "        # we assign random weights to a 3x1 matrix, with values in the ranfe -1 to 1\n",
    "        # and mean 0\n",
    "        self.synaptic_weights = 2*random.random((3,1))-1\n",
    "        \n",
    "    # The sigmoid funtion which describes an s shaped curve\n",
    "    # we pass the weighted sum of the inputs through this function\n",
    "    # to normalise them between 0 and 1\n",
    "    def __sigmoid(self,x):\n",
    "        return 1/(1+exp(-x))\n",
    "    \n",
    "    def train(self, training_set_inputs, training_set_outputs, number_of_trainig_iterations):\n",
    "        for iteration in xrange(number_of_training_iterations):\n",
    "            # pass the trainig set through our neural net\n",
    "            ouput = self.predict(training_set_inputs)\n",
    "            \n",
    "            # calculate the error\n",
    "            error = trainig_set_outputs - output\n",
    "            \n",
    "            # multiply the error by the input and again by the gradient of the sigmoid curve\n",
    "            adjustment = dot(trainig_set_inputs.T, error*self.__sigmoid_derivative(output))\n",
    "            \n",
    "            # adjust the weights\n",
    "            self.synaptic_weights += adjustment\n",
    "    \n",
    "    def predict(self, inputs):\n",
    "        # pass inputs through our neural network"
   ]
  },
  {
   "cell_type": "code",
   "execution_count": null,
   "metadata": {
    "collapsed": true
   },
   "outputs": [],
   "source": [
    "if __name__ = 'main':\n",
    "    \n",
    "    neural_network = NeuralNetwork()\n",
    "    print('Random starting synaptic weights')\n",
    "    print(neural_network.synaptic_weights)\n",
    "    \n",
    "    # The training set. We have 4 examples, each consisting of 3 input values and 1 output values\n",
    "    training_set_inputs = array([[0,0,1],[1,1,1],[1,0,1],[0,1,1]])\n",
    "    training_set_outputs = array([[0,1,1,0]]).T\n",
    "    \n",
    "    # train the neural network using a training set.\n",
    "    # Do it 10000 times and make small adjustments each time\n",
    "    neural_network.train(trainig_set_inputs, trainig_set_outputs, 10000)\n",
    "    \n",
    "    print('New synaptic weights after training')\n",
    "    print(neural_network.synaptic weights)\n",
    "    \n",
    "    # Test the neural network with a new situation\n",
    "    print(\"Considering new situation [1,0,0]->?:\")\n",
    "    print neural_network.think(array([1,0,0]))"
   ]
  }
 ],
 "metadata": {
  "kernelspec": {
   "display_name": "Python [conda root]",
   "language": "python",
   "name": "conda-root-py"
  },
  "language_info": {
   "codemirror_mode": {
    "name": "ipython",
    "version": 2
   },
   "file_extension": ".py",
   "mimetype": "text/x-python",
   "name": "python",
   "nbconvert_exporter": "python",
   "pygments_lexer": "ipython2",
   "version": "2.7.12"
  }
 },
 "nbformat": 4,
 "nbformat_minor": 1
}
