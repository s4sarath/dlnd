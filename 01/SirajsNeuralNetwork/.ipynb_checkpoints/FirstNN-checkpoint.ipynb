{
 "cells": [
  {
   "cell_type": "code",
   "execution_count": null,
   "metadata": {
    "collapsed": true
   },
   "outputs": [],
   "source": [
    "if __name__ = 'main':\n",
    "    \n",
    "    neural_network = NeuralNetwork()\n",
    "    print('Random starting synaptic weights')\n",
    "    print(neural_network.synaptic_weights)\n",
    "    \n",
    "    # The training set. We have 4 examples, each consisting of 3 input values and 1 output values\n",
    "    training_set_inputs = array([[0,0,1],[1,1,1],[1,0,1],[0,1,1]])\n",
    "    training_set_outputs = array([[0,1,1,0]]).T\n",
    "    \n",
    "    # train the neural network using a training set.\n",
    "    # Do it 10000 times and make small adjustments each time\n",
    "    neural_network.train(trainig_set_inputs, trainig_set_outputs, 10000)\n",
    "    \n",
    "    print('New synaptic weights after training')\n",
    "    print(neural_network.synaptic weights)\n",
    "    \n",
    "    # Test the neural network with a new situation\n",
    "    print(\"Considering new situation [1,0,0]->?:\")\n",
    "    print neural_network.think(array([1,0,0]))"
   ]
  }
 ],
 "metadata": {
  "kernelspec": {
   "display_name": "Python [conda root]",
   "language": "python",
   "name": "conda-root-py"
  },
  "language_info": {
   "codemirror_mode": {
    "name": "ipython",
    "version": 2
   },
   "file_extension": ".py",
   "mimetype": "text/x-python",
   "name": "python",
   "nbconvert_exporter": "python",
   "pygments_lexer": "ipython2",
   "version": "2.7.12"
  }
 },
 "nbformat": 4,
 "nbformat_minor": 1
}
